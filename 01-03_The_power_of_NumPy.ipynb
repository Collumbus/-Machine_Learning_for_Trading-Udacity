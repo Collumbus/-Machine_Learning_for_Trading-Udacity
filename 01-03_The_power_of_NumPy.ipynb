{
 "cells": [
  {
   "cell_type": "markdown",
   "metadata": {},
   "source": [
    "### Lesson outline\n",
    "\n",
    "If you're familiar with NumPy (esp. the following operations), feel free to skim through this lesson.\n",
    "\n",
    "- #### Create a NumPy array:\n",
    "  - from a pandas dataframe: [pandas.DataFrame.values](http://pandas.pydata.org/pandas-docs/stable/generated/pandas.DataFrame.values.html)\n",
    "  - from a Python sequence: [numpy.array](http://docs.scipy.org/doc/numpy/reference/generated/numpy.array.html)\n",
    "  - with constant initial values: [numpy.ones, numpy.zeros](http://docs.scipy.org/doc/numpy/reference/generated/numpy.ones.html)\n",
    "  - with random values: [numpy.random](http://docs.scipy.org/doc/numpy/reference/routines.random.html)\n",
    "\n",
    "- #### Access array attributes: [shape](http://docs.scipy.org/doc/numpy/reference/generated/numpy.ndarray.shape.html), [ndim](http://docs.scipy.org/doc/numpy/reference/generated/numpy.ndarray.ndim.html), [size](http://docs.scipy.org/doc/numpy/reference/generated/numpy.ndarray.size.html), [dtype](http://docs.scipy.org/doc/numpy/reference/generated/numpy.ndarray.dtype.html)\n",
    "- #### Compute statistics: [sum](http://docs.scipy.org/doc/numpy/reference/generated/numpy.sum.html), [min](http://docs.scipy.org/doc/numpy/reference/generated/numpy.min.html), [max](http://docs.scipy.org/doc/numpy/reference/generated/numpy.max.html), [mean](http://docs.scipy.org/doc/numpy/reference/generated/numpy.mean.html)\n",
    "- #### Carry out arithmetic operations: [add](http://docs.scipy.org/doc/numpy/reference/generated/numpy.add.html), [subtract](http://docs.scipy.org/doc/numpy/reference/generated/numpy.subtract.html), [multiply](http://docs.scipy.org/doc/numpy/reference/generated/numpy.multiply.html), [divide](http://docs.scipy.org/doc/numpy/reference/generated/numpy.divide.html)\n",
    "- #### Measure execution time: [time.time](https://docs.python.org/2/library/time.html#time.time), [profile](https://docs.python.org/2/library/profile.html)\n",
    "- #### Manipulate array elements: [Using simple indices and slices](http://docs.scipy.org/doc/numpy/reference/arrays.indexing.html#basic-slicing-and-indexing), [integer arrays](http://docs.scipy.org/doc/numpy/reference/arrays.indexing.html#integer-array-indexing), [boolean arrays](http://docs.scipy.org/doc/numpy/reference/arrays.indexing.html#boolean-array-indexing)"
   ]
  },
  {
   "cell_type": "code",
   "execution_count": 5,
   "metadata": {
    "collapsed": false
   },
   "outputs": [
    {
     "name": "stdout",
     "output_type": "stream",
     "text": [
      "[2 3 4]\n",
      "\n",
      "[[2 3 4]\n",
      " [5 6 7]]\n"
     ]
    }
   ],
   "source": [
    "'''Creating NumPy arrays.'''\n",
    "\n",
    "import numpy as np\n",
    "\n",
    "def test_run():\n",
    "    # List to 1D array\n",
    "    print np.array([2, 3, 4])\n",
    "    print ''\n",
    "    \n",
    "    #List of tuples to 2D array\n",
    "    print np.array([(2, 3, 4), (5, 6, 7)])\n",
    "\n",
    "if __name__ == '__main__':\n",
    "    test_run()"
   ]
  },
  {
   "cell_type": "code",
   "execution_count": 9,
   "metadata": {
    "collapsed": false
   },
   "outputs": [
    {
     "name": "stdout",
     "output_type": "stream",
     "text": [
      "[  0.00000000e+000   6.89941071e-310   6.89943153e-310   3.39387131e-317\n",
      "   2.37151510e-322]\n",
      "[[  6.89944150e-310   6.56353958e-317   1.01006264e+261   4.48861446e-120]\n",
      " [  1.67709469e+243   3.03574399e-152   8.05084511e+173   6.69433480e+151]\n",
      " [  2.44514154e-154   3.63537905e+233   4.83245960e+276   8.82085571e+199]\n",
      " [  9.34634029e+218   2.65856669e-260   2.13505411e+161   2.18072748e-153]\n",
      " [  4.97745931e+151   6.01346953e-154   1.24039117e+224   6.09109151e-114]]\n",
      "[[ 1.  1.  1.  1.]\n",
      " [ 1.  1.  1.  1.]\n",
      " [ 1.  1.  1.  1.]\n",
      " [ 1.  1.  1.  1.]\n",
      " [ 1.  1.  1.  1.]]\n"
     ]
    }
   ],
   "source": [
    "'''Arrays with initial values.'''\n",
    "\n",
    "import numpy as np\n",
    "\n",
    "def test_run():\n",
    "    # Empty array\n",
    "    print np.empty(5)\n",
    "    print np.empty((5,4))\n",
    "    \n",
    "    #Arrays of 1s\n",
    "    print np.ones((5,4))\n",
    "\n",
    "if __name__ == '__main__':\n",
    "    test_run()"
   ]
  },
  {
   "cell_type": "code",
   "execution_count": 13,
   "metadata": {
    "collapsed": false
   },
   "outputs": [
    {
     "name": "stdout",
     "output_type": "stream",
     "text": [
      "[[1 1 1 1]\n",
      " [1 1 1 1]\n",
      " [1 1 1 1]\n",
      " [1 1 1 1]\n",
      " [1 1 1 1]]\n"
     ]
    }
   ],
   "source": [
    "'''Specify the datatype.'''\n",
    "\n",
    "import numpy as np\n",
    "\n",
    "def test_run():\n",
    "    \n",
    "    #Arrays of integers 1s\n",
    "    print np.ones((5,4), dtype=np.int)\n",
    "\n",
    "if __name__ == '__main__':\n",
    "    test_run()"
   ]
  },
  {
   "cell_type": "code",
   "execution_count": 15,
   "metadata": {
    "collapsed": false
   },
   "outputs": [
    {
     "name": "stdout",
     "output_type": "stream",
     "text": [
      "[[ 0.98002498  0.57936353  0.40416187  0.45760029]\n",
      " [ 0.66914955  0.0749194   0.55522073  0.04126315]\n",
      " [ 0.10187618  0.75788742  0.44318673  0.41842539]\n",
      " [ 0.87198883  0.80890351  0.48565408  0.68981486]\n",
      " [ 0.38924023  0.83339295  0.19694214  0.84770307]]\n",
      "\n",
      "Standard Normal\n",
      "[[ 0.20255373 -0.36719115 -0.20939396]\n",
      " [-0.97229616 -0.44531705 -0.1617242 ]]\n",
      "\n",
      "Standard Normal\n",
      "[[ 49.02978119  41.66887027  65.92429881]\n",
      " [ 41.58021424  50.39193175  46.07780296]]\n",
      "\n",
      "A single integer\n",
      "0\n",
      "\n",
      "A single integer\n",
      "9\n",
      "\n",
      "1d-array\n",
      "[0 1 0 3 7]\n",
      "\n",
      "2d-array\n",
      "[[9 8 5]\n",
      " [2 3 6]]\n"
     ]
    }
   ],
   "source": [
    "'''Generating random numbers.'''\n",
    "\n",
    "import numpy as np\n",
    "\n",
    "def test_run():\n",
    "    \n",
    "    #Generate an anrray full of rando, numbers, uniformly sampled from [0.0, 1.0)\n",
    "    print np.random.random((5,4)) # Pass in a size tuple\n",
    "    print ''\n",
    "    \n",
    "    # Sample numbers from a Gaussian (normal) distribution\n",
    "    print 'Standard Normal'\n",
    "    print np.random.normal(size=(2, 3)) # \"Standard normal\" (mean =0, s.d. = 1)\n",
    "    print ''\n",
    "    print 'Standard Normal'\n",
    "    print np.random.normal(50,10, size=(2, 3)) # Change mean to 50 and s.d. = 10\n",
    "    print ''\n",
    "    \n",
    "    #Random integers\n",
    "    print 'A single integer'\n",
    "    print np.random.randint(10) # A single integer in [0, 10)\n",
    "    print ''\n",
    "    print 'A single integer'\n",
    "    print np.random.randint(0, 10) # Same as above, especifying [low, high) explicit\n",
    "    print ''\n",
    "    print '1d-array'\n",
    "    print np.random.randint(0, 10, size = 5) # 5 random integers as a 1D array\n",
    "    print ''\n",
    "    print '2d-array'\n",
    "    print np.random.randint(0, 10, size = (2, 3)) # 2x3 array of random integers\n",
    "    \n",
    "if __name__ == '__main__':\n",
    "    test_run()"
   ]
  },
  {
   "cell_type": "code",
   "execution_count": 21,
   "metadata": {
    "collapsed": false
   },
   "outputs": [
    {
     "name": "stdout",
     "output_type": "stream",
     "text": [
      "[[ 0.76444591  0.42017101  0.78568757  0.47444077]\n",
      " [ 0.77287955  0.68360112  0.71139951  0.34694677]\n",
      " [ 0.72109319  0.9797951   0.22239037  0.06959021]\n",
      " [ 0.09883535  0.17842835  0.79085698  0.885343  ]\n",
      " [ 0.46956974  0.84621499  0.58448892  0.65181972]]\n",
      "(5, 4)\n",
      "5\n",
      "4\n",
      "2\n",
      "20\n",
      "float64\n"
     ]
    }
   ],
   "source": [
    "'''Array attributes.'''\n",
    "\n",
    "import numpy as np\n",
    "\n",
    "def test_run():\n",
    "    \n",
    "    a = np.random.random((5,4)) # 5x4 array of random numbers\n",
    "    print a\n",
    "    print a.shape\n",
    "    print a.shape[0] # Number of rows\n",
    "    print a.shape[1] # Number of columns\n",
    "    print len(a.shape)\n",
    "    print a.size\n",
    "    print a.dtype\n",
    "    \n",
    "\n",
    "if __name__ == '__main__':\n",
    "    test_run()"
   ]
  },
  {
   "cell_type": "code",
   "execution_count": 29,
   "metadata": {
    "collapsed": false
   },
   "outputs": [
    {
     "name": "stdout",
     "output_type": "stream",
     "text": [
      "Array:\n",
      "[[0 9 4 4]\n",
      " [6 9 0 8]\n",
      " [8 1 4 8]\n",
      " [1 8 2 1]\n",
      " [2 3 1 5]]\n",
      "Sum of all elements: 84\n",
      "Sum of each column: [17 30 11 26]\n",
      "Sum of each row: [17 23 21 12 11]\n",
      "Minimum of each column:\n",
      "[0 1 0 1]\n",
      "Maximum of each row:\n",
      "[0 0 1 1 1]\n",
      "Mean of all elements:\n",
      "0\n"
     ]
    }
   ],
   "source": [
    "'''Operations on arrays.'''\n",
    "\n",
    "import numpy as np\n",
    "\n",
    "def test_run():\n",
    "    \n",
    "    a = np.random.randint(0,10, size = (5,4)) # 5x4 random integers in [0, 10)\n",
    "    print 'Array:\\n', a\n",
    "    \n",
    "    #Sum of all elements\n",
    "    print 'Sum of all elements:', a.sum()\n",
    "    \n",
    "    #Iterate over rows, to compute sum of each column\n",
    "    print 'Sum of each column:', a.sum(axis=0)\n",
    "    \n",
    "    #Iterate over columns, to compute sum of each row\n",
    "    print 'Sum of each row:', a.sum(axis=1)\n",
    "    \n",
    "    #Statistics: min, max, mean (accross rows, cols, and overall)\n",
    "    print 'Minimum of each column:\\n', a.min(axis=0)\n",
    "    print 'Maximum of each row:\\n', a.min(axis=1)\n",
    "    print 'Mean of all elements:\\n', a.min() # Leave out axis arg.\n",
    "    \n",
    "    \n",
    "if __name__ == '__main__':\n",
    "    test_run()"
   ]
  },
  {
   "cell_type": "markdown",
   "metadata": {},
   "source": [
    "---\n",
    "## Quiz: Locate Maximum Value"
   ]
  },
  {
   "cell_type": "code",
   "execution_count": 47,
   "metadata": {
    "collapsed": false
   },
   "outputs": [
    {
     "name": "stdout",
     "output_type": "stream",
     "text": [
      "Array: [ 9  6  2  3 12 14  7 10]\n",
      "Maximum value: 14\n",
      "Index of max.: 5\n"
     ]
    }
   ],
   "source": [
    "\"\"\"Locate maximum value.\"\"\"\n",
    "\n",
    "import numpy as np\n",
    "\n",
    "\n",
    "def get_max_index(a):\n",
    "    \"\"\"Return the index of the maximum value in given 1D array.\"\"\"\n",
    "    return np.argmax(a)\n",
    "\n",
    "\n",
    "def test_run():\n",
    "    a = np.array([9, 6, 2, 3, 12, 14, 7, 10], dtype=np.int32)  # 32-bit integer array\n",
    "    print \"Array:\", a\n",
    "    \n",
    "    # Find the maximum and its index in array\n",
    "    print \"Maximum value:\", a.max()\n",
    "    print \"Index of max.:\", get_max_index(a)\n",
    "\n",
    "\n",
    "if __name__ == \"__main__\":\n",
    "    test_run()\n"
   ]
  },
  {
   "cell_type": "markdown",
   "metadata": {},
   "source": [
    "---"
   ]
  },
  {
   "cell_type": "code",
   "execution_count": 48,
   "metadata": {
    "collapsed": false
   },
   "outputs": [
    {
     "name": "stdout",
     "output_type": "stream",
     "text": [
      "ML4T\n",
      "The time taken by print statement is  9.08374786377e-05 seconds\n"
     ]
    }
   ],
   "source": [
    "'''Using time function.'''\n",
    "\n",
    "import numpy as np\n",
    "import time\n",
    "\n",
    "def test_run():\n",
    "    t1 = time.time()\n",
    "    print 'ML4T'\n",
    "    t2 = time.time()\n",
    "    print 'The time taken by print statement is ', t2 - t1,'seconds'\n",
    "    \n",
    "\n",
    "if __name__ == '__main__':\n",
    "    test_run()"
   ]
  },
  {
   "cell_type": "code",
   "execution_count": 55,
   "metadata": {
    "collapsed": false
   },
   "outputs": [
    {
     "name": "stdout",
     "output_type": "stream",
     "text": [
      "Manual: 0.500004 (1.491 secs.) vs NumPy: 0.500004 (0.007 secs.)\n",
      "NumPy mean is 199.771391143 times faster than manual for loops.\n"
     ]
    }
   ],
   "source": [
    "'''How fast is NumPy.'''\n",
    "\n",
    "import numpy as np\n",
    "from time import time\n",
    "\n",
    "def how_long(func, *args):\n",
    "    '''Execute funcion with given arguments, and measure execution time.'''\n",
    "    t0 = time()\n",
    "    result = func(*args) # All arguments are passed in as-is\n",
    "    t1 = time()\n",
    "    return result, t1- t0\n",
    "\n",
    "def manual_mean(arr):\n",
    "    '''Compute mean (average) of all elements in the given 2D array'''\n",
    "    sum = 0\n",
    "    for i in xrange(0, arr.shape[0]):\n",
    "        for j in xrange (0, arr.shape[1]):\n",
    "            sum = sum + arr[i, j]\n",
    "    return sum / arr.size\n",
    "\n",
    "def numpy_mean(arr):\n",
    "    '''Compute mean (average) using NumPy'''\n",
    "    return arr.mean()\n",
    "\n",
    "def test_run():\n",
    "    '''Function called by Test Run.'''\n",
    "    nd1 = np.random.random((1000, 10000)) # Use a sufficiently large array\n",
    "    \n",
    "    #Time the two functions, retrieving results and execution times\n",
    "    res_manual, t_manual = how_long(manual_mean, nd1)\n",
    "    res_numpy, t_numpy = how_long(numpy_mean, nd1)\n",
    "    print 'Manual: {:.6f} ({:.3f} secs.) vs NumPy: {:.6f} ({:.3f} secs.)'.format(res_manual, t_manual, res_numpy, t_numpy) \n",
    "    \n",
    "    #Make sure both give us the same answer (upto some precision)\n",
    "    assert abs(res_manual - res_numpy) <= 10e-6, 'Results aren´t equal!'  \n",
    "    \n",
    "    #Compute speedup\n",
    "    speedup = t_manual / t_numpy\n",
    "    print 'NumPy mean is', speedup, 'times faster than manual for loops.'\n",
    "\n",
    "if __name__ == '__main__':\n",
    "    test_run()"
   ]
  },
  {
   "cell_type": "code",
   "execution_count": 22,
   "metadata": {
    "collapsed": false
   },
   "outputs": [
    {
     "name": "stdout",
     "output_type": "stream",
     "text": [
      "Array:\n",
      "[[ 0.70471966  0.488766    0.72131719  0.59584046]\n",
      " [ 0.11730061  0.85680481  0.49135416  0.95255406]\n",
      " [ 0.00229705  0.24127687  0.33643233  0.65719103]\n",
      " [ 0.11624821  0.57739567  0.3062893   0.894219  ]\n",
      " [ 0.88178216  0.16968218  0.46442419  0.98048617]]\n",
      "\n",
      "Position (3, 2):\n",
      "0.306289299939\n",
      "\n",
      "Range (0, 1:3):\n",
      "[ 0.488766    0.72131719]\n",
      "\n",
      "Top-left corner :\n",
      "[[ 0.70471966  0.488766  ]\n",
      " [ 0.11730061  0.85680481]]\n",
      "\n",
      "Slicing: [[ 0.70471966  0.72131719]\n",
      " [ 0.11730061  0.49135416]\n",
      " [ 0.00229705  0.33643233]\n",
      " [ 0.11624821  0.3062893 ]\n",
      " [ 0.88178216  0.46442419]]\n"
     ]
    }
   ],
   "source": [
    "'''Accessing array elements.'''\n",
    "\n",
    "import numpy as np\n",
    "\n",
    "def test_run():\n",
    "    a = np.random.rand(5, 4)\n",
    "    print 'Array:\\n', a\n",
    "    print''\n",
    "    \n",
    "    #Accessing element at position (3, 2)\n",
    "    element = a[3, 2]\n",
    "    print 'Position (3, 2):\\n', element\n",
    "    print''\n",
    "    \n",
    "    #Elements in defined range\n",
    "    print 'Range (0, 1:3):\\n', a[0, 1:3]\n",
    "    print''\n",
    "    \n",
    "    #Top-left corner\n",
    "    print 'Top-left corner :\\n', a[0:2, 0:2]\n",
    "    print''\n",
    "    \n",
    "    #Slicing\n",
    "    #Note: Slice n:m:t specifies a range that starts at n, and stops before m, in steps of sizet\n",
    "    print 'Slicing:', a[:, 0:3:2]\n",
    "\n",
    "if __name__ == '__main__':\n",
    "    test_run()"
   ]
  },
  {
   "cell_type": "code",
   "execution_count": 26,
   "metadata": {
    "collapsed": false
   },
   "outputs": [
    {
     "name": "stdout",
     "output_type": "stream",
     "text": [
      "Array:\n",
      "[[ 0.03000799  0.29923522  0.63106626  0.40993497]\n",
      " [ 0.14535125  0.07935721  0.02244874  0.75989961]\n",
      " [ 0.93776966  0.30107738  0.25096299  0.67044536]\n",
      " [ 0.95579093  0.81059579  0.29811526  0.42337705]\n",
      " [ 0.68052147  0.59356922  0.77569521  0.58312439]]\n",
      "\n",
      "\n",
      "Modified (replaced one element):\n",
      "[[ 1.          0.29923522  0.63106626  0.40993497]\n",
      " [ 0.14535125  0.07935721  0.02244874  0.75989961]\n",
      " [ 0.93776966  0.30107738  0.25096299  0.67044536]\n",
      " [ 0.95579093  0.81059579  0.29811526  0.42337705]\n",
      " [ 0.68052147  0.59356922  0.77569521  0.58312439]]\n",
      "\n",
      "\n",
      "Modified (replaced a row with a single value):\n",
      "[[ 2.          2.          2.          2.        ]\n",
      " [ 0.14535125  0.07935721  0.02244874  0.75989961]\n",
      " [ 0.93776966  0.30107738  0.25096299  0.67044536]\n",
      " [ 0.95579093  0.81059579  0.29811526  0.42337705]\n",
      " [ 0.68052147  0.59356922  0.77569521  0.58312439]]\n",
      "\n",
      "\n",
      "Modified (replaced a column with a list):\n",
      "[[ 2.          2.          2.          1.        ]\n",
      " [ 0.14535125  0.07935721  0.02244874  2.        ]\n",
      " [ 0.93776966  0.30107738  0.25096299  3.        ]\n",
      " [ 0.95579093  0.81059579  0.29811526  4.        ]\n",
      " [ 0.68052147  0.59356922  0.77569521  5.        ]]\n",
      "\n"
     ]
    }
   ],
   "source": [
    "'''Modifying array elements.'''\n",
    "\n",
    "import numpy as np\n",
    "\n",
    "def test_run():\n",
    "    a = np.random.rand(5, 4)\n",
    "    print 'Array:\\n', a\n",
    "    print''\n",
    "    \n",
    "    #Assigning a value to aa particular location\n",
    "    a[0, 0] = 1\n",
    "    print '\\nModified (replaced one element):\\n', a\n",
    "    print''\n",
    "    \n",
    "    #Assingning a single value to an entire row\n",
    "    a[0, :] = 2\n",
    "    print '\\nModified (replaced a row with a single value):\\n', a\n",
    "    print''\n",
    "    \n",
    "    #Assingning a list to a column in an array\n",
    "    a[:, 3] = [1, 2, 3, 4, 5]\n",
    "    print '\\nModified (replaced a column with a list):\\n', a\n",
    "    print''\n",
    "if __name__ == '__main__':\n",
    "    test_run()"
   ]
  },
  {
   "cell_type": "code",
   "execution_count": 28,
   "metadata": {
    "collapsed": false
   },
   "outputs": [
    {
     "name": "stdout",
     "output_type": "stream",
     "text": [
      "[ 0.01286659  0.72581137  0.59752278  0.58280926  0.19408949]\n",
      "[ 0.72581137  0.72581137  0.59752278  0.58280926]\n"
     ]
    }
   ],
   "source": [
    "'''Indexing an array with another array.'''\n",
    "\n",
    "import numpy as np\n",
    "\n",
    "def test_run():\n",
    "    a = np.random.rand(5)\n",
    "    \n",
    "    #Accessing using list of indices\n",
    "    indices = np.array([1, 1, 2, 3])\n",
    "    \n",
    "    print a\n",
    "    print a[indices]\n",
    "\n",
    "if __name__ == '__main__':\n",
    "    test_run()"
   ]
  },
  {
   "cell_type": "code",
   "execution_count": 40,
   "metadata": {
    "collapsed": false
   },
   "outputs": [
    {
     "name": "stdout",
     "output_type": "stream",
     "text": [
      "Array:\n",
      "[[20 25 10 23 26 32 10  5  0]\n",
      " [ 0  2 50 20  0  1 28  5  0]]\n",
      "\n",
      "Mean:\n",
      "14.2777777778\n",
      "\n",
      "Masking:\n",
      "[[20 25 14 23 26 32 14 14 14]\n",
      " [14 14 50 20 14 14 28 14 14]]\n"
     ]
    }
   ],
   "source": [
    "'''Boolean or \"mask\" index arrays.'''\n",
    "\n",
    "import numpy as np\n",
    "\n",
    "def test_run():\n",
    "    a = np.array([(20, 25, 10, 23, 26, 32, 10, 5, 0), (0, 2, 50, 20, 0, 1, 28, 5, 0)])\n",
    "    print 'Array:\\n', a\n",
    "    print ''\n",
    "    \n",
    "    #Calculating mean\n",
    "    mean = a.mean()\n",
    "    print 'Mean:\\n', mean\n",
    "    print ''\n",
    "    \n",
    "    #Masking\n",
    "    a[a<mean] = mean\n",
    "    print 'Masking:\\n', a\n",
    "    \n",
    "if __name__ == '__main__':\n",
    "    test_run()"
   ]
  },
  {
   "cell_type": "code",
   "execution_count": 46,
   "metadata": {
    "collapsed": false
   },
   "outputs": [
    {
     "name": "stdout",
     "output_type": "stream",
     "text": [
      "Original array a:\n",
      "[[ 1  2  3  4  5]\n",
      " [10 20 30 40 50]]\n",
      "\n",
      "Original array b:\n",
      "[[100 200 300 400 500]\n",
      " [  1   2   3   4   5]]\n",
      "\n",
      "Multiply a by 2:\n",
      "[[  2   4   6   8  10]\n",
      " [ 20  40  60  80 100]]\n",
      "\n",
      "Divide a by 2:\n",
      "[[  0.5   1.    1.5   2.    2.5]\n",
      " [  5.   10.   15.   20.   25. ]]\n",
      "\n",
      "Add a + b:\n",
      "[[101 202 303 404 505]\n",
      " [ 11  22  33  44  55]]\n",
      "\n",
      "Multiply a * b:\n",
      "[[ 100  400  900 1600 2500]\n",
      " [  10   40   90  160  250]]\n",
      "\n",
      "Divide a / b:\n",
      "[[ 0  0  0  0  0]\n",
      " [10 10 10 10 10]]\n"
     ]
    }
   ],
   "source": [
    "'''Arithmetic operations.'''\n",
    "\n",
    "import numpy as np\n",
    "\n",
    "def test_run():\n",
    "    a = np.array([(1, 2, 3, 4, 5), (10, 20, 30, 40, 50)])\n",
    "    print 'Original array a:\\n', a\n",
    "    print ''\n",
    "    \n",
    "    b = np.array([(100, 200, 300, 400, 500), (1, 2, 3, 4, 5)])\n",
    "    print 'Original array b:\\n', b\n",
    "    print ''\n",
    "    \n",
    "    #Multiply a by 2\n",
    "    mean = a.mean()\n",
    "    print 'Multiply a by 2:\\n', 2*a\n",
    "    print ''\n",
    "    \n",
    "    #Divide a by 2\n",
    "    mean = a.mean()\n",
    "    print 'Divide a by 2:\\n', a/2.0\n",
    "    \n",
    "    #Add the two arrays\n",
    "    print '\\nAdd a + b:\\n', a + b\n",
    "    \n",
    "    #Multiply a and b\n",
    "    print '\\nMultiply a * b:\\n', a * b\n",
    "    \n",
    "    #Divide a and b\n",
    "    print '\\nDivide a / b:\\n', a / b\n",
    "    \n",
    "if __name__ == '__main__':\n",
    "    test_run()"
   ]
  },
  {
   "cell_type": "markdown",
   "metadata": {},
   "source": [
    "### Learning more NumPy\n",
    "\n",
    "Resources from NumPy [User Guide](http://docs.scipy.org/doc/numpy/user/index.html) and [Reference](http://docs.scipy.org/doc/numpy/reference/index.html):\n",
    "\n",
    "- #### [The N-dimensional array](http://docs.scipy.org/doc/numpy/reference/arrays.ndarray.html)\n",
    "- #### [Data types](http://docs.scipy.org/doc/numpy/user/basics.types.html)\n",
    "- #### [Array creation](http://docs.scipy.org/doc/numpy/user/basics.creation.html) [[more]](http://docs.scipy.org/doc/numpy/reference/routines.array-creation.html)\n",
    "- #### [Indexing](http://docs.scipy.org/doc/numpy/user/basics.indexing.html) [[more]](http://docs.scipy.org/doc/numpy/reference/arrays.indexing.html)\n",
    "- #### [Broadcasting](http://docs.scipy.org/doc/numpy/user/basics.broadcasting.html)\n",
    "- #### [Random sampling](http://docs.scipy.org/doc/numpy/reference/routines.random.html)\n",
    "- #### [Mathematical functions](http://docs.scipy.org/doc/numpy/reference/routines.math.html)\n",
    "- #### [Linear algebra](http://docs.scipy.org/doc/numpy/reference/routines.linalg.html)\n"
   ]
  },
  {
   "cell_type": "code",
   "execution_count": null,
   "metadata": {
    "collapsed": true
   },
   "outputs": [],
   "source": []
  }
 ],
 "metadata": {
  "kernelspec": {
   "display_name": "Python [Root]",
   "language": "python",
   "name": "Python [Root]"
  },
  "language_info": {
   "codemirror_mode": {
    "name": "ipython",
    "version": 2
   },
   "file_extension": ".py",
   "mimetype": "text/x-python",
   "name": "python",
   "nbconvert_exporter": "python",
   "pygments_lexer": "ipython2",
   "version": "2.7.12"
  }
 },
 "nbformat": 4,
 "nbformat_minor": 0
}
