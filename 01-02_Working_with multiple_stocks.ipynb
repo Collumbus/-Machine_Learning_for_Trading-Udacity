{
 "cells": [
  {
   "cell_type": "markdown",
   "metadata": {},
   "source": [
    "### Lesson outline\n",
    "\n",
    "Here's an overview of what you'll learn to do in this lesson. Documentation links are for reference.\n",
    "#### Read in multiple stocks:\n",
    "\n",
    "- Create an empty [pandas.DataFrame](http://pandas.pydata.org/pandas-docs/stable/generated/pandas.DataFrame.html) with dates as index: [pandas.date_range](http://pandas.pydata.org/pandas-docs/stable/generated/pandas.date_range.html)\n",
    "- Drop missing date rows: [pandas.DataFrame.dropna](http://pandas.pydata.org/pandas-docs/stable/generated/pandas.DataFrame.dropna.html)\n",
    "- Incrementally join data for each stock: [pandas.DataFrame.join](http://pandas.pydata.org/pandas-docs/stable/generated/pandas.DataFrame.join.html)\n",
    "\n",
    "#### Manipulate stock data:\n",
    "\n",
    "- [Index and select data](http://pandas.pydata.org/pandas-docs/stable/indexing.html) by row (dates) and column (symbols)\n",
    "- Plot multiple stocks at once (still using [pandas.DataFrame.plot](http://pandas.pydata.org/pandas-docs/stable/generated/pandas.DataFrame.plot.html))\n",
    "- Carry out arithmetic operations across stocks\n"
   ]
  },
  {
   "cell_type": "code",
   "execution_count": 40,
   "metadata": {
    "collapsed": false
   },
   "outputs": [
    {
     "name": "stdout",
     "output_type": "stream",
     "text": [
      "            Adj Close\n",
      "2010-01-26  94.730543\n",
      "2010-01-25  95.129189\n",
      "2010-01-22  94.643882\n"
     ]
    }
   ],
   "source": [
    "\"\"\"Build a dataframe in pandas and filter it by a range of date\"\"\"\n",
    "import pandas as pd\n",
    "\n",
    "def test_run():\n",
    "    #Define date range\n",
    "    start_date = '2010-01-22'\n",
    "    end_date = '2010-01-26'\n",
    "    dates = pd.date_range(start_date,end_date)\n",
    "    \n",
    "    #Create an empty dataframe\n",
    "    df1 = pd.DataFrame(index=dates)\n",
    "    \n",
    "    \n",
    "    #Read SPY data into temporary dataframe\n",
    "    dfSPY = pd.read_csv('data/SPY.csv', index_col='Date', parse_dates=True, \n",
    "                        usecols=['Date', 'Adj Close'], na_values=['nan'])\n",
    "    \n",
    "    #Join the two dataframes using DataFrame.join()\n",
    "    #df1 = df1.join(dfSPY)\n",
    "\n",
    "    # Drop NaN Values\n",
    "    #df1 = df1.dropna()\n",
    "    #print df1\n",
    "\n",
    "    #Join the two dataframes using DataFrame.join(), with how='inner\n",
    "    df1 = df1.join(dfSPY, how='inner')\n",
    "    print df1\n",
    "    \n",
    "if __name__ == \"__main__\":\n",
    "    test_run()    "
   ]
  },
  {
   "cell_type": "code",
   "execution_count": 48,
   "metadata": {
    "collapsed": false
   },
   "outputs": [
    {
     "name": "stdout",
     "output_type": "stream",
     "text": [
      "            Adj Close        GOOG         IBM         GLD\n",
      "2010-01-26  94.730543  270.939526  105.769566  107.559998\n",
      "2010-01-25  95.129189  269.730740  106.080779  107.480003\n",
      "2010-01-22  94.643882  274.730736  105.559289  107.169998\n"
     ]
    }
   ],
   "source": [
    "\"\"\"Build a dataframe in pandas with 3 symbols and filter it by a range of date\"\"\"\n",
    "import pandas as pd\n",
    "\n",
    "def test_run():\n",
    "    #Define date range\n",
    "    start_date = '2010-01-22'\n",
    "    end_date = '2010-01-26'\n",
    "    dates = pd.date_range(start_date,end_date)\n",
    "    \n",
    "    #Create an empty dataframe\n",
    "    df1 = pd.DataFrame(index=dates)\n",
    "    \n",
    "    \n",
    "    #Read SPY data into temporary dataframe\n",
    "    dfSPY = pd.read_csv('data/SPY.csv', index_col='Date', parse_dates=True, \n",
    "                        usecols=['Date', 'Adj Close'], na_values=['nan'])\n",
    "\n",
    "    #Join the two dataframes using DataFrame.join(), with how='inner\n",
    "    df1 = df1.join(dfSPY, how='inner')\n",
    "    \n",
    "    #Read in more stocks\n",
    "    symbols = ['GOOG', 'IBM', 'GLD']\n",
    "    for symbol in symbols:\n",
    "        df_temp = pd.read_csv('data/{}.csv'.format(symbol), index_col='Date',\n",
    "                             parse_dates=True,usecols=['Date', 'Adj Close'], \n",
    "                              na_values=['nan'])\n",
    "        #Rename to prevent clash\n",
    "        df_temp = df_temp.rename(columns={'Adj Close': symbol})\n",
    "        df1 = df1.join(df_temp)\n",
    "    \n",
    "    print df1\n",
    "    \n",
    "if __name__ == \"__main__\":\n",
    "    test_run() "
   ]
  },
  {
   "cell_type": "markdown",
   "metadata": {},
   "source": [
    "---\n",
    "## Quiz: Utility functions for reading data"
   ]
  },
  {
   "cell_type": "code",
   "execution_count": 89,
   "metadata": {
    "collapsed": false,
    "scrolled": true
   },
   "outputs": [
    {
     "name": "stdout",
     "output_type": "stream",
     "text": [
      "                  SPY        GOOG         IBM         GLD\n",
      "2010-01-22  94.643882  274.730736  105.559289  107.169998\n",
      "2010-01-25  95.129189  269.730740  106.080779  107.480003\n",
      "2010-01-26  94.730543  270.939526  105.769566  107.559998\n"
     ]
    }
   ],
   "source": [
    "\"\"\"Utility functions\"\"\"\n",
    "\n",
    "import os\n",
    "import pandas as pd\n",
    "\n",
    "def symbol_to_path(symbol, base_dir=\"data\"):\n",
    "    \"\"\"Return CSV file path given ticker symbol.\"\"\"\n",
    "    return os.path.join(base_dir, \"{}.csv\".format(str(symbol)))\n",
    "\n",
    "\n",
    "def get_data(symbols, dates):\n",
    "    \"\"\"Read stock data (adjusted close) for given symbols from CSV files.\"\"\"\n",
    "    df = pd.DataFrame(index=dates)\n",
    "    if 'SPY' not in symbols:  # add SPY for reference, if absent\n",
    "        symbols.insert(0, 'SPY')\n",
    "\n",
    "    for symbol in symbols:\n",
    "        # TODO: Read and join data for each symbol\n",
    "        df_temp = pd.read_csv(symbol_to_path(symbol).format(symbol), index_col='Date',\n",
    "                             parse_dates=True,usecols=['Date', 'Adj Close'], \n",
    "                              na_values=['nan'])\n",
    "        #Rename to prevent clash\n",
    "        df_temp = df_temp.rename(columns={'Adj Close': symbol})\n",
    "        df = df.join(df_temp)\n",
    "        if symbol == 'SPY': #Drop dates SPY did not trade\n",
    "            df = df.dropna(subset=['SPY'])   \n",
    "\n",
    "    return df\n",
    "\n",
    "\n",
    "def test_run():\n",
    "    # Define a date range\n",
    "    dates = pd.date_range('2010-01-22', '2010-01-26')\n",
    "\n",
    "    # Choose stock symbols to read\n",
    "    symbols = ['GOOG', 'IBM', 'GLD']\n",
    "    \n",
    "    # Get stock data\n",
    "    df = get_data(symbols, dates)\n",
    "    print df\n",
    "\n",
    "\n",
    "if __name__ == \"__main__\":\n",
    "    test_run()"
   ]
  },
  {
   "cell_type": "markdown",
   "metadata": {},
   "source": [
    "---"
   ]
  },
  {
   "cell_type": "code",
   "execution_count": null,
   "metadata": {
    "collapsed": true
   },
   "outputs": [],
   "source": []
  }
 ],
 "metadata": {
  "kernelspec": {
   "display_name": "Python [Root]",
   "language": "python",
   "name": "Python [Root]"
  },
  "language_info": {
   "codemirror_mode": {
    "name": "ipython",
    "version": 2
   },
   "file_extension": ".py",
   "mimetype": "text/x-python",
   "name": "python",
   "nbconvert_exporter": "python",
   "pygments_lexer": "ipython2",
   "version": "2.7.12"
  }
 },
 "nbformat": 4,
 "nbformat_minor": 0
}
